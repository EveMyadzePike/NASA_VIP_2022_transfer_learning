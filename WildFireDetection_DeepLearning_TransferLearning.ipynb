{
 "cells": [
  {
   "cell_type": "markdown",
   "id": "329c6ed3-a9f9-4606-b809-2527a1455728",
   "metadata": {},
   "source": [
    "## WildFire Detection using Deep Learning and Transfer Learning    \n",
    "https://www.tensorflow.org/hub/tutorials/tf2_image_retraining   \n",
    "\n",
    "Deep Learning model for wildfire detection in static optical camera images"
   ]
  },
  {
   "cell_type": "code",
   "execution_count": 1,
   "id": "b7f552d4-6ba0-49e7-979f-3877e095c437",
   "metadata": {},
   "outputs": [],
   "source": [
    "import sys, os, pathlib, shutil, platform\n",
    "#pandas procesing tables\n",
    "import pandas as pd\n",
    "import numpy as np\n",
    "import matplotlib.pyplot as plt\n",
    "\n",
    "\n",
    "from sklearn.linear_model import LogisticRegression\n",
    "from sklearn.neighbors import KNeighborsClassifier\n",
    "from sklearn import svm\n",
    "from sklearn.ensemble import RandomForestClassifier\n",
    "from sklearn.feature_selection import RFE, RFECV\n",
    "\n",
    "from sklearn.metrics import (\n",
    "    classification_report,\n",
    "    confusion_matrix,\n",
    "    accuracy_score,\n",
    "    roc_auc_score,\n",
    "    roc_curve,\n",
    "    auc,\n",
    ")\n",
    "from sklearn.model_selection import (\n",
    "    train_test_split, \n",
    "    StratifiedShuffleSplit,\n",
    "    StratifiedKFold,\n",
    ")\n",
    "\n",
    "\n",
    "from sklearn.preprocessing import OrdinalEncoder\n",
    "\n",
    "from sklearn.compose import make_column_transformer\n",
    "from sklearn.impute import SimpleImputer\n",
    "from sklearn.pipeline import make_pipeline\n",
    "from sklearn.preprocessing import OneHotEncoder\n",
    "from sklearn.preprocessing import OrdinalEncoder\n",
    "from sklearn.preprocessing import StandardScaler"
   ]
  },
  {
   "cell_type": "code",
   "execution_count": 2,
   "id": "e38832a3-4cbd-46da-8a91-71a9e0a7de9c",
   "metadata": {},
   "outputs": [],
   "source": [
    "# import the library InteractiveShell\n",
    "from IPython.core.interactiveshell import InteractiveShell\n",
    "#\"all\" the instructions are printed\n",
    "InteractiveShell.ast_node_interactivity = \"all\""
   ]
  },
  {
   "cell_type": "code",
   "execution_count": 3,
   "id": "086aef93-4502-46d9-a094-be120747d96a",
   "metadata": {},
   "outputs": [],
   "source": [
    "# ! pip install \"tensorflow~=2.0\"\n",
    "# ! pip install \"tensorflow-hub[make_image_classifier]~=0.6\"\n",
    "# ! make_image_classifier --help"
   ]
  },
  {
   "cell_type": "code",
   "execution_count": 4,
   "id": "b666eed7-d530-46fd-9693-72d0a8d45d79",
   "metadata": {},
   "outputs": [
    {
     "name": "stdout",
     "output_type": "stream",
     "text": [
      "TF version: 2.9.1\n",
      "Hub version: 0.12.0\n",
      "GPU is available\n"
     ]
    },
    {
     "name": "stderr",
     "output_type": "stream",
     "text": [
      "2022-08-10 19:19:21.205848: I tensorflow/stream_executor/cuda/cuda_gpu_executor.cc:961] could not open file to read NUMA node: /sys/bus/pci/devices/0000:01:00.0/numa_node\n",
      "Your kernel may have been built without NUMA support.\n",
      "2022-08-10 19:19:21.273894: I tensorflow/stream_executor/cuda/cuda_gpu_executor.cc:961] could not open file to read NUMA node: /sys/bus/pci/devices/0000:01:00.0/numa_node\n",
      "Your kernel may have been built without NUMA support.\n",
      "2022-08-10 19:19:21.274357: I tensorflow/stream_executor/cuda/cuda_gpu_executor.cc:961] could not open file to read NUMA node: /sys/bus/pci/devices/0000:01:00.0/numa_node\n",
      "Your kernel may have been built without NUMA support.\n"
     ]
    }
   ],
   "source": [
    "import itertools\n",
    "\n",
    "import tensorflow as tf\n",
    "import tensorflow_hub as hub\n",
    "\n",
    "print(\"TF version:\", tf.__version__)\n",
    "print(\"Hub version:\", hub.__version__)\n",
    "print(\"GPU is\", \"available\" if tf.config.list_physical_devices('GPU') else \"NOT AVAILABLE\")"
   ]
  },
  {
   "cell_type": "code",
   "execution_count": 5,
   "id": "1723fc9a-45f1-40e0-93ca-2d748f1a66e1",
   "metadata": {},
   "outputs": [
    {
     "data": {
      "text/plain": [
       "224"
      ]
     },
     "execution_count": 5,
     "metadata": {},
     "output_type": "execute_result"
    },
    {
     "data": {
      "text/plain": [
       "224"
      ]
     },
     "execution_count": 5,
     "metadata": {},
     "output_type": "execute_result"
    },
    {
     "name": "stdout",
     "output_type": "stream",
     "text": [
      "Selected model: efficientnet_b0 : https://tfhub.dev/tensorflow/efficientnet/b0/feature-vector/1\n",
      "Input size (224, 224)\n"
     ]
    }
   ],
   "source": [
    "model_name = \"efficientnetv2-xl-21k\" \n",
    "model_name = \"efficientnet_b0\" \n",
    "\n",
    "\n",
    "model_handle_map = {\n",
    "  \"efficientnetv2-s\": \"https://tfhub.dev/google/imagenet/efficientnet_v2_imagenet1k_s/feature_vector/2\",\n",
    "  \"efficientnetv2-m\": \"https://tfhub.dev/google/imagenet/efficientnet_v2_imagenet1k_m/feature_vector/2\",\n",
    "  \"efficientnetv2-l\": \"https://tfhub.dev/google/imagenet/efficientnet_v2_imagenet1k_l/feature_vector/2\",\n",
    "  \"efficientnetv2-s-21k\": \"https://tfhub.dev/google/imagenet/efficientnet_v2_imagenet21k_s/feature_vector/2\",\n",
    "  \"efficientnetv2-m-21k\": \"https://tfhub.dev/google/imagenet/efficientnet_v2_imagenet21k_m/feature_vector/2\",\n",
    "  \"efficientnetv2-l-21k\": \"https://tfhub.dev/google/imagenet/efficientnet_v2_imagenet21k_l/feature_vector/2\",\n",
    "  \"efficientnetv2-xl-21k\": \"https://tfhub.dev/google/imagenet/efficientnet_v2_imagenet21k_xl/feature_vector/2\",\n",
    "  \"efficientnetv2-b0-21k\": \"https://tfhub.dev/google/imagenet/efficientnet_v2_imagenet21k_b0/feature_vector/2\",\n",
    "  \"efficientnetv2-b1-21k\": \"https://tfhub.dev/google/imagenet/efficientnet_v2_imagenet21k_b1/feature_vector/2\",\n",
    "  \"efficientnetv2-b2-21k\": \"https://tfhub.dev/google/imagenet/efficientnet_v2_imagenet21k_b2/feature_vector/2\",\n",
    "  \"efficientnetv2-b3-21k\": \"https://tfhub.dev/google/imagenet/efficientnet_v2_imagenet21k_b3/feature_vector/2\",\n",
    "  \"efficientnetv2-s-21k-ft1k\": \"https://tfhub.dev/google/imagenet/efficientnet_v2_imagenet21k_ft1k_s/feature_vector/2\",\n",
    "  \"efficientnetv2-m-21k-ft1k\": \"https://tfhub.dev/google/imagenet/efficientnet_v2_imagenet21k_ft1k_m/feature_vector/2\",\n",
    "  \"efficientnetv2-l-21k-ft1k\": \"https://tfhub.dev/google/imagenet/efficientnet_v2_imagenet21k_ft1k_l/feature_vector/2\",\n",
    "  \"efficientnetv2-xl-21k-ft1k\": \"https://tfhub.dev/google/imagenet/efficientnet_v2_imagenet21k_ft1k_xl/feature_vector/2\",\n",
    "  \"efficientnetv2-b0-21k-ft1k\": \"https://tfhub.dev/google/imagenet/efficientnet_v2_imagenet21k_ft1k_b0/feature_vector/2\",\n",
    "  \"efficientnetv2-b1-21k-ft1k\": \"https://tfhub.dev/google/imagenet/efficientnet_v2_imagenet21k_ft1k_b1/feature_vector/2\",\n",
    "  \"efficientnetv2-b2-21k-ft1k\": \"https://tfhub.dev/google/imagenet/efficientnet_v2_imagenet21k_ft1k_b2/feature_vector/2\",\n",
    "  \"efficientnetv2-b3-21k-ft1k\": \"https://tfhub.dev/google/imagenet/efficientnet_v2_imagenet21k_ft1k_b3/feature_vector/2\",\n",
    "  \"efficientnetv2-b0\": \"https://tfhub.dev/google/imagenet/efficientnet_v2_imagenet1k_b0/feature_vector/2\",\n",
    "  \"efficientnetv2-b1\": \"https://tfhub.dev/google/imagenet/efficientnet_v2_imagenet1k_b1/feature_vector/2\",\n",
    "  \"efficientnetv2-b2\": \"https://tfhub.dev/google/imagenet/efficientnet_v2_imagenet1k_b2/feature_vector/2\",\n",
    "  \"efficientnetv2-b3\": \"https://tfhub.dev/google/imagenet/efficientnet_v2_imagenet1k_b3/feature_vector/2\",\n",
    "  \"efficientnet_b0\": \"https://tfhub.dev/tensorflow/efficientnet/b0/feature-vector/1\",\n",
    "  \"efficientnet_b1\": \"https://tfhub.dev/tensorflow/efficientnet/b1/feature-vector/1\",\n",
    "  \"efficientnet_b2\": \"https://tfhub.dev/tensorflow/efficientnet/b2/feature-vector/1\",\n",
    "  \"efficientnet_b3\": \"https://tfhub.dev/tensorflow/efficientnet/b3/feature-vector/1\",\n",
    "  \"efficientnet_b4\": \"https://tfhub.dev/tensorflow/efficientnet/b4/feature-vector/1\",\n",
    "  \"efficientnet_b5\": \"https://tfhub.dev/tensorflow/efficientnet/b5/feature-vector/1\",\n",
    "  \"efficientnet_b6\": \"https://tfhub.dev/tensorflow/efficientnet/b6/feature-vector/1\",\n",
    "  \"efficientnet_b7\": \"https://tfhub.dev/tensorflow/efficientnet/b7/feature-vector/1\",\n",
    "  \"bit_s-r50x1\": \"https://tfhub.dev/google/bit/s-r50x1/1\",\n",
    "  \"inception_v3\": \"https://tfhub.dev/google/imagenet/inception_v3/feature-vector/4\",\n",
    "  \"inception_resnet_v2\": \"https://tfhub.dev/google/imagenet/inception_resnet_v2/feature-vector/4\",\n",
    "  \"resnet_v1_50\": \"https://tfhub.dev/google/imagenet/resnet_v1_50/feature-vector/4\",\n",
    "  \"resnet_v1_101\": \"https://tfhub.dev/google/imagenet/resnet_v1_101/feature-vector/4\",\n",
    "  \"resnet_v1_152\": \"https://tfhub.dev/google/imagenet/resnet_v1_152/feature-vector/4\",\n",
    "  \"resnet_v2_50\": \"https://tfhub.dev/google/imagenet/resnet_v2_50/feature-vector/4\",\n",
    "  \"resnet_v2_101\": \"https://tfhub.dev/google/imagenet/resnet_v2_101/feature-vector/4\",\n",
    "  \"resnet_v2_152\": \"https://tfhub.dev/google/imagenet/resnet_v2_152/feature-vector/4\",\n",
    "  \"nasnet_large\": \"https://tfhub.dev/google/imagenet/nasnet_large/feature_vector/4\",\n",
    "  \"nasnet_mobile\": \"https://tfhub.dev/google/imagenet/nasnet_mobile/feature_vector/4\",\n",
    "  \"pnasnet_large\": \"https://tfhub.dev/google/imagenet/pnasnet_large/feature_vector/4\",\n",
    "  \"mobilenet_v2_100_224\": \"https://tfhub.dev/google/imagenet/mobilenet_v2_100_224/feature_vector/4\",\n",
    "  \"mobilenet_v2_130_224\": \"https://tfhub.dev/google/imagenet/mobilenet_v2_130_224/feature_vector/4\",\n",
    "  \"mobilenet_v2_140_224\": \"https://tfhub.dev/google/imagenet/mobilenet_v2_140_224/feature_vector/4\",\n",
    "  \"mobilenet_v3_small_100_224\": \"https://tfhub.dev/google/imagenet/mobilenet_v3_small_100_224/feature_vector/5\",\n",
    "  \"mobilenet_v3_small_075_224\": \"https://tfhub.dev/google/imagenet/mobilenet_v3_small_075_224/feature_vector/5\",\n",
    "  \"mobilenet_v3_large_100_224\": \"https://tfhub.dev/google/imagenet/mobilenet_v3_large_100_224/feature_vector/5\",\n",
    "  \"mobilenet_v3_large_075_224\": \"https://tfhub.dev/google/imagenet/mobilenet_v3_large_075_224/feature_vector/5\",\n",
    "}\n",
    "\n",
    "model_image_size_map = {\n",
    "  \"efficientnetv2-s\": 384,\n",
    "  \"efficientnetv2-m\": 480,\n",
    "  \"efficientnetv2-l\": 480,\n",
    "  \"efficientnetv2-b0\": 224,\n",
    "  \"efficientnetv2-b1\": 240,\n",
    "  \"efficientnetv2-b2\": 260,\n",
    "  \"efficientnetv2-b3\": 300,\n",
    "  \"efficientnetv2-s-21k\": 384,\n",
    "  \"efficientnetv2-m-21k\": 480,\n",
    "  \"efficientnetv2-l-21k\": 480,\n",
    "  \"efficientnetv2-xl-21k\": 512,\n",
    "  \"efficientnetv2-b0-21k\": 224,\n",
    "  \"efficientnetv2-b1-21k\": 240,\n",
    "  \"efficientnetv2-b2-21k\": 260,\n",
    "  \"efficientnetv2-b3-21k\": 300,\n",
    "  \"efficientnetv2-s-21k-ft1k\": 384,\n",
    "  \"efficientnetv2-m-21k-ft1k\": 480,\n",
    "  \"efficientnetv2-l-21k-ft1k\": 480,\n",
    "  \"efficientnetv2-xl-21k-ft1k\": 512,\n",
    "  \"efficientnetv2-b0-21k-ft1k\": 224,\n",
    "  \"efficientnetv2-b1-21k-ft1k\": 240,\n",
    "  \"efficientnetv2-b2-21k-ft1k\": 260,\n",
    "  \"efficientnetv2-b3-21k-ft1k\": 300, \n",
    "  \"efficientnet_b0\": 224,\n",
    "  \"efficientnet_b1\": 240,\n",
    "  \"efficientnet_b2\": 260,\n",
    "  \"efficientnet_b3\": 300,\n",
    "  \"efficientnet_b4\": 380,\n",
    "  \"efficientnet_b5\": 456,\n",
    "  \"efficientnet_b6\": 528,\n",
    "  \"efficientnet_b7\": 600,\n",
    "  \"inception_v3\": 299,\n",
    "  \"inception_resnet_v2\": 299,\n",
    "  \"nasnet_large\": 331,\n",
    "  \"pnasnet_large\": 331,\n",
    "}\n",
    "\n",
    "model_handle = model_handle_map.get(model_name)\n",
    "model_image_size_map.get(model_name)\n",
    "pixels = model_image_size_map.get(model_name, 224)\n",
    "pixels\n",
    "\n",
    "print(f\"Selected model: {model_name} : {model_handle}\")\n",
    "\n",
    "IMAGE_SIZE = (pixels, pixels)\n",
    "print(f\"Input size {IMAGE_SIZE}\")\n",
    "\n",
    "BATCH_SIZE = 16"
   ]
  },
  {
   "cell_type": "markdown",
   "id": "df188090-09e1-4f52-97ed-78b36c9224c7",
   "metadata": {},
   "source": [
    "### Downloaded aiformankind datasets in cell below"
   ]
  },
  {
   "cell_type": "code",
   "execution_count": 6,
   "id": "4dca2c50-580f-4e0a-9ada-6ce93c07f7d8",
   "metadata": {},
   "outputs": [],
   "source": [
    "# data_dir = tf.keras.utils.get_file(\n",
    "#     'flower_photos',\n",
    "#     'https://storage.googleapis.com/download.tensorflow.org/example_images/flower_photos.tgz',\n",
    "#     untar=True)\n",
    "# data_dir\n",
    "\n",
    "# !apt-get install wget\n",
    "# !wget \"https://www.dropbox.com/s/rl0qbub4clah2w9/grid_version.tar\" -P ./../transfer_learning/data\n",
    "\n",
    "# !wget \"https://www.dropbox.com/s/ghfhjtoh1z59xeb/wildfire_smoke_data.tar\" -P ./../transfer_learning/data"
   ]
  },
  {
   "cell_type": "code",
   "execution_count": 7,
   "id": "eedc7bfc-259b-4b33-83ca-4899698fb3a4",
   "metadata": {},
   "outputs": [
    {
     "name": "stdout",
     "output_type": "stream",
     "text": [
      "total 12\n",
      "drwxr-xr-x 1 501 staff  4096 Dec 31  2019 .\n",
      "drwxr-xr-x 1 501 staff  4096 Dec 31  2019 ..\n",
      "-rw-r--r-- 1 501 staff 10244 Dec 31  2019 .DS_Store\n",
      "drwxr-xr-x 1 501 staff  4096 Jul 29 23:03 grid_no_smoke\n",
      "drwxr-xr-x 1 501 staff  4096 Dec 31  2019 grid_smoke\n"
     ]
    }
   ],
   "source": [
    "!ls -la ./../transfer_learning/data/grid_version/train"
   ]
  },
  {
   "cell_type": "code",
   "execution_count": 8,
   "id": "5fc59432-7beb-4d77-a16b-8000affab28d",
   "metadata": {},
   "outputs": [
    {
     "data": {
      "text/plain": [
       "3621"
      ]
     },
     "execution_count": 8,
     "metadata": {},
     "output_type": "execute_result"
    },
    {
     "data": {
      "text/plain": [
       "0.9900579950289975"
      ]
     },
     "execution_count": 8,
     "metadata": {},
     "output_type": "execute_result"
    }
   ],
   "source": [
    "# !pwd\n",
    "# ! mkdir -p ./data\n",
    "\n",
    "# !tar -xvf ./../transfer_learning/data/grid_version.tar -C ./../transfer_learning/data/\n",
    "\n",
    "# ! rm ./data/*.tar*\n",
    "# ! rm ./../transfer_learning/data/grid_version.tar\n",
    "\n",
    "# !ls ./../transfer_learning/data/grid_version/train/grid_no_smoke | wc -l\n",
    "# 2622 images in ./../transfer_learning/data/grid_version/train/grid_no_smoke\n",
    "# 999 images in ./../transfer_learning/data/grid_version/train/grid_smoke\n",
    "\n",
    "999+2622\n",
    "3585 / (999+2622)\n",
    "# ! ls -la ./../transfer_learning/data/grid_version\n",
    "data_dir = './../transfer_learning/data/grid_version/train'"
   ]
  },
  {
   "cell_type": "code",
   "execution_count": 9,
   "id": "f22a48e6-6dc5-4059-8c6f-ce3288252bc5",
   "metadata": {},
   "outputs": [],
   "source": [
    "# !tar -xvf ./../transfer_learning/data/wildfire_smoke_data.tar  -C ./../transfer_learning/data/\n",
    "# ! rm ./../transfer_learning/data/wildfire_smoke_data.tar\n",
    "# !ls -la ./../transfer_learning/data/wildfire_smoke_data/\n",
    "# data_dir = './../transfer_learning/data/grid_version/train"
   ]
  },
  {
   "cell_type": "code",
   "execution_count": 10,
   "id": "0119abcc-4b26-412e-9265-a7035096dfd1",
   "metadata": {},
   "outputs": [
    {
     "name": "stdout",
     "output_type": "stream",
     "text": [
      "Found 3621 files belonging to 2 classes.\n",
      "Using 2897 files for training.\n"
     ]
    },
    {
     "name": "stderr",
     "output_type": "stream",
     "text": [
      "2022-08-10 19:19:35.883046: I tensorflow/core/platform/cpu_feature_guard.cc:193] This TensorFlow binary is optimized with oneAPI Deep Neural Network Library (oneDNN) to use the following CPU instructions in performance-critical operations:  AVX2 FMA\n",
      "To enable them in other operations, rebuild TensorFlow with the appropriate compiler flags.\n",
      "2022-08-10 19:19:35.888009: I tensorflow/stream_executor/cuda/cuda_gpu_executor.cc:961] could not open file to read NUMA node: /sys/bus/pci/devices/0000:01:00.0/numa_node\n",
      "Your kernel may have been built without NUMA support.\n",
      "2022-08-10 19:19:35.888456: I tensorflow/stream_executor/cuda/cuda_gpu_executor.cc:961] could not open file to read NUMA node: /sys/bus/pci/devices/0000:01:00.0/numa_node\n",
      "Your kernel may have been built without NUMA support.\n",
      "2022-08-10 19:19:35.888811: I tensorflow/stream_executor/cuda/cuda_gpu_executor.cc:961] could not open file to read NUMA node: /sys/bus/pci/devices/0000:01:00.0/numa_node\n",
      "Your kernel may have been built without NUMA support.\n",
      "2022-08-10 19:19:38.612926: I tensorflow/stream_executor/cuda/cuda_gpu_executor.cc:961] could not open file to read NUMA node: /sys/bus/pci/devices/0000:01:00.0/numa_node\n",
      "Your kernel may have been built without NUMA support.\n",
      "2022-08-10 19:19:38.613615: I tensorflow/stream_executor/cuda/cuda_gpu_executor.cc:961] could not open file to read NUMA node: /sys/bus/pci/devices/0000:01:00.0/numa_node\n",
      "Your kernel may have been built without NUMA support.\n",
      "2022-08-10 19:19:38.613642: I tensorflow/core/common_runtime/gpu/gpu_device.cc:1616] Could not identify NUMA node of platform GPU id 0, defaulting to 0.  Your kernel may not have been built with NUMA support.\n",
      "2022-08-10 19:19:38.614260: I tensorflow/stream_executor/cuda/cuda_gpu_executor.cc:961] could not open file to read NUMA node: /sys/bus/pci/devices/0000:01:00.0/numa_node\n",
      "Your kernel may have been built without NUMA support.\n",
      "2022-08-10 19:19:38.614483: I tensorflow/core/common_runtime/gpu/gpu_device.cc:1532] Created device /job:localhost/replica:0/task:0/device:GPU:0 with 2753 MB memory:  -> device: 0, name: NVIDIA GeForce GTX 1050 Ti, pci bus id: 0000:01:00.0, compute capability: 6.1\n"
     ]
    }
   ],
   "source": [
    "def build_dataset(data_dir, subset, validation_split):\n",
    "  return tf.keras.preprocessing.image_dataset_from_directory(\n",
    "      data_dir,\n",
    "      validation_split= validation_split, #.20,\n",
    "      subset=subset,\n",
    "      label_mode=\"categorical\",\n",
    "      # Seed needs to provided when using validation_split and shuffle = True.\n",
    "      # A fixed seed is used so that the validation set is stable across runs.\n",
    "      seed=123,\n",
    "      image_size=IMAGE_SIZE,\n",
    "      batch_size=1)\n",
    "\n",
    "train_ds = build_dataset(data_dir, \"training\", 0.20)"
   ]
  },
  {
   "cell_type": "code",
   "execution_count": 11,
   "id": "541c74eb-cffc-46e3-9e1d-279f963c4e48",
   "metadata": {},
   "outputs": [
    {
     "data": {
      "text/plain": [
       "('grid_no_smoke', 'grid_smoke')"
      ]
     },
     "execution_count": 11,
     "metadata": {},
     "output_type": "execute_result"
    },
    {
     "data": {
      "text/plain": [
       "2897"
      ]
     },
     "execution_count": 11,
     "metadata": {},
     "output_type": "execute_result"
    },
    {
     "data": {
      "text/plain": [
       "['grid_no_smoke', 'grid_smoke']"
      ]
     },
     "execution_count": 11,
     "metadata": {},
     "output_type": "execute_result"
    }
   ],
   "source": [
    "class_names = tuple(train_ds.class_names)\n",
    "train_size = train_ds.cardinality().numpy()\n",
    "\n",
    "class_names\n",
    "train_size\n",
    "train_ds.class_names"
   ]
  },
  {
   "cell_type": "code",
   "execution_count": 12,
   "id": "733aa590-2f5c-42b4-9ff3-ac4ceb5300c6",
   "metadata": {},
   "outputs": [],
   "source": [
    "train_ds = train_ds.unbatch().batch(BATCH_SIZE)\n",
    "train_ds = train_ds.repeat()"
   ]
  },
  {
   "cell_type": "code",
   "execution_count": 13,
   "id": "2b1f547b-3a4b-4f95-be62-3eb0d970b16a",
   "metadata": {},
   "outputs": [],
   "source": [
    "normalization_layer = tf.keras.layers.Rescaling(1. / 255)\n",
    "preprocessing_model = tf.keras.Sequential([normalization_layer])\n",
    "do_data_augmentation = False\n",
    "if do_data_augmentation:\n",
    "  preprocessing_model.add(\n",
    "      tf.keras.layers.RandomRotation(40))\n",
    "  preprocessing_model.add(\n",
    "      tf.keras.layers.RandomTranslation(0, 0.2))\n",
    "  preprocessing_model.add(\n",
    "      tf.keras.layers.RandomTranslation(0.2, 0))\n",
    "  # Like the old tf.keras.preprocessing.image.ImageDataGenerator(),\n",
    "  # image sizes are fixed when reading, and then a random zoom is applied.\n",
    "  # If all training inputs are larger than image_size, one could also use\n",
    "  # RandomCrop with a batch size of 1 and rebatch later.\n",
    "  preprocessing_model.add(\n",
    "      tf.keras.layers.RandomZoom(0.2, 0.2))\n",
    "  preprocessing_model.add(\n",
    "      tf.keras.layers.RandomFlip(mode=\"horizontal\"))\n",
    " \n",
    "train_ds = train_ds.map(lambda images, labels:\n",
    "                        (preprocessing_model(images), labels))"
   ]
  },
  {
   "cell_type": "markdown",
   "id": "d947b33d-6f62-46d2-a579-f62d7de99f3e",
   "metadata": {},
   "source": [
    "Validation data used for monitoring training is also from **train** folder"
   ]
  },
  {
   "cell_type": "code",
   "execution_count": 14,
   "id": "d2ca0a9c-6f00-43cc-9221-7015f2970235",
   "metadata": {},
   "outputs": [
    {
     "name": "stdout",
     "output_type": "stream",
     "text": [
      "Found 3621 files belonging to 2 classes.\n",
      "Using 724 files for validation.\n"
     ]
    }
   ],
   "source": [
    "# val_ds = build_dataset(\"validation\")\n",
    "val_ds = build_dataset(data_dir, \"validation\", 0.20)\n",
    "valid_size = val_ds.cardinality().numpy()\n",
    "val_ds = val_ds.unbatch().batch(BATCH_SIZE)\n",
    "val_ds = val_ds.map(lambda images, labels:\n",
    "                    (preprocessing_model(images), labels))"
   ]
  },
  {
   "cell_type": "code",
   "execution_count": 15,
   "id": "50e5d052-4b3f-4657-8a0a-149ffa096a6d",
   "metadata": {},
   "outputs": [],
   "source": [
    "do_fine_tuning = False"
   ]
  },
  {
   "cell_type": "code",
   "execution_count": 16,
   "id": "a286e319-2eec-4a87-a6c5-45ea07d6803a",
   "metadata": {},
   "outputs": [
    {
     "data": {
      "text/plain": [
       "'https://tfhub.dev/tensorflow/efficientnet/b0/feature-vector/1'"
      ]
     },
     "execution_count": 16,
     "metadata": {},
     "output_type": "execute_result"
    }
   ],
   "source": [
    "model_handle"
   ]
  },
  {
   "cell_type": "code",
   "execution_count": 17,
   "id": "a2816f31-e3c0-4a4e-80b8-959b60331744",
   "metadata": {},
   "outputs": [
    {
     "name": "stdout",
     "output_type": "stream",
     "text": [
      "Building model with https://tfhub.dev/tensorflow/efficientnet/b0/feature-vector/1\n",
      "Model: \"sequential_1\"\n",
      "_________________________________________________________________\n",
      " Layer (type)                Output Shape              Param #   \n",
      "=================================================================\n",
      " keras_layer (KerasLayer)    (None, 1280)              4049564   \n",
      "                                                                 \n",
      " dropout (Dropout)           (None, 1280)              0         \n",
      "                                                                 \n",
      " dense (Dense)               (None, 2)                 2562      \n",
      "                                                                 \n",
      "=================================================================\n",
      "Total params: 4,052,126\n",
      "Trainable params: 2,562\n",
      "Non-trainable params: 4,049,564\n",
      "_________________________________________________________________\n"
     ]
    }
   ],
   "source": [
    "print(\"Building model with\", model_handle)\n",
    "model = tf.keras.Sequential([\n",
    "    # Explicitly define the input shape so the model can be properly\n",
    "    # loaded by the TFLiteConverter\n",
    "    tf.keras.layers.InputLayer(input_shape=IMAGE_SIZE + (3,)),\n",
    "    hub.KerasLayer(model_handle, trainable=do_fine_tuning),\n",
    "    tf.keras.layers.Dropout(rate=0.2),\n",
    "    tf.keras.layers.Dense(len(class_names),\n",
    "                          kernel_regularizer=tf.keras.regularizers.l2(0.0001))\n",
    "])\n",
    "model.build((None,)+IMAGE_SIZE+(3,))\n",
    "model.summary()"
   ]
  },
  {
   "cell_type": "code",
   "execution_count": 18,
   "id": "9b62d7d2-eee6-4b3e-9be7-06902ea76829",
   "metadata": {},
   "outputs": [],
   "source": [
    "model.compile(\n",
    "  optimizer=tf.keras.optimizers.SGD(learning_rate=0.005, momentum=0.9), \n",
    "  loss=tf.keras.losses.CategoricalCrossentropy(from_logits=True, label_smoothing=0.1),\n",
    "  metrics=['accuracy', tf.keras.metrics.AUC(from_logits=True)])\n",
    "  # metrics=['accuracy']) "
   ]
  },
  {
   "cell_type": "code",
   "execution_count": 19,
   "id": "5673262f-dbb7-49e7-9637-0911347ddbc4",
   "metadata": {
    "tags": []
   },
   "outputs": [
    {
     "name": "stdout",
     "output_type": "stream",
     "text": [
      "Epoch 1/10\n"
     ]
    },
    {
     "name": "stderr",
     "output_type": "stream",
     "text": [
      "2022-08-10 19:20:14.626936: I tensorflow/stream_executor/cuda/cuda_dnn.cc:384] Loaded cuDNN version 8100\n"
     ]
    },
    {
     "name": "stdout",
     "output_type": "stream",
     "text": [
      "181/181 [==============================] - 35s 109ms/step - loss: 0.2829 - accuracy: 0.9482 - auc: 0.9904 - val_loss: 0.2363 - val_accuracy: 0.9903 - val_auc: 0.9990\n",
      "Epoch 2/10\n",
      "181/181 [==============================] - 19s 102ms/step - loss: 0.2380 - accuracy: 0.9872 - auc: 0.9982 - val_loss: 0.2274 - val_accuracy: 0.9931 - val_auc: 0.9995\n",
      "Epoch 3/10\n",
      "181/181 [==============================] - 18s 100ms/step - loss: 0.2303 - accuracy: 0.9920 - auc: 0.9990 - val_loss: 0.2222 - val_accuracy: 0.9931 - val_auc: 0.9996\n",
      "Epoch 4/10\n",
      "181/181 [==============================] - 18s 100ms/step - loss: 0.2264 - accuracy: 0.9948 - auc: 0.9991 - val_loss: 0.2201 - val_accuracy: 0.9931 - val_auc: 0.9998\n",
      "Epoch 5/10\n",
      "181/181 [==============================] - 18s 101ms/step - loss: 0.2240 - accuracy: 0.9941 - auc: 0.9996 - val_loss: 0.2185 - val_accuracy: 0.9931 - val_auc: 0.9997\n",
      "Epoch 6/10\n",
      "181/181 [==============================] - 18s 100ms/step - loss: 0.2211 - accuracy: 0.9955 - auc: 0.9995 - val_loss: 0.2171 - val_accuracy: 0.9958 - val_auc: 0.9999\n",
      "Epoch 7/10\n",
      "181/181 [==============================] - 18s 102ms/step - loss: 0.2205 - accuracy: 0.9951 - auc: 0.9998 - val_loss: 0.2157 - val_accuracy: 0.9958 - val_auc: 0.9999\n",
      "Epoch 8/10\n",
      "181/181 [==============================] - 18s 101ms/step - loss: 0.2197 - accuracy: 0.9948 - auc: 0.9999 - val_loss: 0.2162 - val_accuracy: 0.9944 - val_auc: 0.9998\n",
      "Epoch 9/10\n",
      "181/181 [==============================] - 19s 103ms/step - loss: 0.2207 - accuracy: 0.9951 - auc: 0.9996 - val_loss: 0.2146 - val_accuracy: 0.9958 - val_auc: 0.9999\n",
      "Epoch 10/10\n",
      "181/181 [==============================] - 19s 103ms/step - loss: 0.2184 - accuracy: 0.9962 - auc: 0.9998 - val_loss: 0.2142 - val_accuracy: 0.9958 - val_auc: 0.9999\n"
     ]
    }
   ],
   "source": [
    "steps_per_epoch = train_size // BATCH_SIZE\n",
    "validation_steps = valid_size // BATCH_SIZE\n",
    "# steps_per_epoch = 3\n",
    "# validation_steps = 3\n",
    "num_epochs = 10 #50 # 20 #5\n",
    "hist = model.fit(\n",
    "    train_ds,\n",
    "    epochs=num_epochs, steps_per_epoch=steps_per_epoch,\n",
    "    validation_data=val_ds,\n",
    "    validation_steps=validation_steps).history"
   ]
  },
  {
   "cell_type": "code",
   "execution_count": 20,
   "id": "abdeb26c-7ed4-44a8-886b-afb38e442b3a",
   "metadata": {},
   "outputs": [
    {
     "data": {
      "text/plain": [
       "dict_keys(['loss', 'accuracy', 'auc', 'val_loss', 'val_accuracy', 'val_auc'])"
      ]
     },
     "execution_count": 20,
     "metadata": {},
     "output_type": "execute_result"
    },
    {
     "data": {
      "text/plain": [
       "10"
      ]
     },
     "execution_count": 20,
     "metadata": {},
     "output_type": "execute_result"
    }
   ],
   "source": [
    "hist.keys()\n",
    "len(hist[\"loss\"])"
   ]
  },
  {
   "cell_type": "code",
   "execution_count": 21,
   "id": "8ecb9811-3f40-445c-89d0-64e654eeaf93",
   "metadata": {},
   "outputs": [
    {
     "data": {
      "text/plain": [
       "<Figure size 432x288 with 0 Axes>"
      ]
     },
     "execution_count": 21,
     "metadata": {},
     "output_type": "execute_result"
    },
    {
     "data": {
      "text/plain": [
       "Text(0, 0.5, 'Loss (training and validation)')"
      ]
     },
     "execution_count": 21,
     "metadata": {},
     "output_type": "execute_result"
    },
    {
     "data": {
      "text/plain": [
       "Text(0.5, 0, 'Training Steps')"
      ]
     },
     "execution_count": 21,
     "metadata": {},
     "output_type": "execute_result"
    },
    {
     "data": {
      "text/plain": [
       "(0.0, 2.0)"
      ]
     },
     "execution_count": 21,
     "metadata": {},
     "output_type": "execute_result"
    },
    {
     "data": {
      "text/plain": [
       "[<matplotlib.lines.Line2D at 0x7f966e745f70>]"
      ]
     },
     "execution_count": 21,
     "metadata": {},
     "output_type": "execute_result"
    },
    {
     "data": {
      "text/plain": [
       "[<matplotlib.lines.Line2D at 0x7f966e75f160>]"
      ]
     },
     "execution_count": 21,
     "metadata": {},
     "output_type": "execute_result"
    },
    {
     "data": {
      "text/plain": [
       "<Figure size 432x288 with 0 Axes>"
      ]
     },
     "execution_count": 21,
     "metadata": {},
     "output_type": "execute_result"
    },
    {
     "data": {
      "text/plain": [
       "Text(0, 0.5, 'Accuracy (training and validation)')"
      ]
     },
     "execution_count": 21,
     "metadata": {},
     "output_type": "execute_result"
    },
    {
     "data": {
      "text/plain": [
       "Text(0.5, 0, 'Training Steps')"
      ]
     },
     "execution_count": 21,
     "metadata": {},
     "output_type": "execute_result"
    },
    {
     "data": {
      "text/plain": [
       "(0.0, 1.0)"
      ]
     },
     "execution_count": 21,
     "metadata": {},
     "output_type": "execute_result"
    },
    {
     "data": {
      "text/plain": [
       "[<matplotlib.lines.Line2D at 0x7f966e71b670>]"
      ]
     },
     "execution_count": 21,
     "metadata": {},
     "output_type": "execute_result"
    },
    {
     "data": {
      "text/plain": [
       "[<matplotlib.lines.Line2D at 0x7f966e71b730>]"
      ]
     },
     "execution_count": 21,
     "metadata": {},
     "output_type": "execute_result"
    },
    {
     "data": {
      "text/plain": [
       "<Figure size 432x288 with 0 Axes>"
      ]
     },
     "execution_count": 21,
     "metadata": {},
     "output_type": "execute_result"
    },
    {
     "data": {
      "text/plain": [
       "[<matplotlib.lines.Line2D at 0x7f966e6d3970>]"
      ]
     },
     "execution_count": 21,
     "metadata": {},
     "output_type": "execute_result"
    },
    {
     "data": {
      "text/plain": [
       "[<matplotlib.lines.Line2D at 0x7f966e6d3d30>]"
      ]
     },
     "execution_count": 21,
     "metadata": {},
     "output_type": "execute_result"
    },
    {
     "data": {
      "text/plain": [
       "<Figure size 432x288 with 0 Axes>"
      ]
     },
     "execution_count": 21,
     "metadata": {},
     "output_type": "execute_result"
    },
    {
     "data": {
      "image/png": "[encoded data removed]",
      "text/plain": [
       "<Figure size 432x288 with 1 Axes>"
      ]
     },
     "metadata": {
      "needs_background": "light"
     },
     "output_type": "display_data"
    },
    {
     "data": {
      "image/png": "[encoded data removed]",
      "text/plain": [
       "<Figure size 432x288 with 1 Axes>"
      ]
     },
     "metadata": {
      "needs_background": "light"
     },
     "output_type": "display_data"
    },
    {
     "data": {
      "image/png": "[encoded data removed]",
      "text/plain": [
       "<Figure size 432x288 with 1 Axes>"
      ]
     },
     "metadata": {
      "needs_background": "light"
     },
     "output_type": "display_data"
    },
    {
     "data": {
      "text/plain": [
       "<Figure size 432x288 with 0 Axes>"
      ]
     },
     "metadata": {},
     "output_type": "display_data"
    }
   ],
   "source": [
    "plt.figure()\n",
    "plt.ylabel(\"Loss (training and validation)\")\n",
    "plt.xlabel(\"Training Steps\")\n",
    "plt.ylim([0,2])\n",
    "\n",
    "plt.plot(hist[\"loss\"])\n",
    "plt.plot(hist[\"val_loss\"])\n",
    "# plt.plot([a+0.5 for a in hist[\"val_loss\"]])\n",
    "plt.figure()\n",
    "\n",
    "plt.ylabel(\"Accuracy (training and validation)\")\n",
    "plt.xlabel(\"Training Steps\")\n",
    "plt.ylim([0,1])\n",
    "plt.plot(hist[\"accuracy\"])\n",
    "plt.plot(hist[\"val_accuracy\"])\n",
    "plt.figure()\n",
    "\n",
    "plt.plot(hist[\"auc\"])\n",
    "plt.plot(hist[\"val_auc\"])\n",
    "plt.figure()"
   ]
  },
  {
   "cell_type": "code",
   "execution_count": 22,
   "id": "643fae23-19de-42b8-8f5b-eeb4a3071f97",
   "metadata": {},
   "outputs": [],
   "source": [
    "probability_model = tf.keras.Sequential([model, tf.keras.layers.Softmax()])"
   ]
  },
  {
   "cell_type": "markdown",
   "id": "d99ef460-0441-4dca-a1c9-9f6dbffc9e2a",
   "metadata": {},
   "source": [
    "### Export and reload the model \n",
    "export the model as a SavedModel for reusing it later."
   ]
  },
  {
   "cell_type": "code",
   "execution_count": 23,
   "id": "282d118d-b6ed-4e01-92bd-188d10db70ca",
   "metadata": {},
   "outputs": [],
   "source": [
    "os.makedirs('./tmp/saved_models/',exist_ok=True)"
   ]
  },
  {
   "cell_type": "code",
   "execution_count": 24,
   "id": "aa144005-c0f5-4bfc-88bc-e67c154984b8",
   "metadata": {},
   "outputs": [
    {
     "name": "stdout",
     "output_type": "stream",
     "text": [
      "INFO:tensorflow:Assets written to: /tmp/saved_models/WildFireDetectionModel001/assets\n"
     ]
    },
    {
     "name": "stderr",
     "output_type": "stream",
     "text": [
      "INFO:tensorflow:Assets written to: /tmp/saved_models/WildFireDetectionModel001/assets\n"
     ]
    },
    {
     "data": {
      "text/plain": [
       "'/tmp/saved_models/WildFireDetectionModel001'"
      ]
     },
     "execution_count": 24,
     "metadata": {},
     "output_type": "execute_result"
    }
   ],
   "source": [
    "# t = time.time()\n",
    "\n",
    "export_path = \"/tmp/saved_models/WildFireDetectionModel001\"\n",
    "model.save(export_path)\n",
    "\n",
    "export_path"
   ]
  },
  {
   "cell_type": "markdown",
   "id": "3f6d9ea3-0eb2-4ef9-add9-ffe474383137",
   "metadata": {},
   "source": [
    "### scoring example from tf  \n",
    "https://github.com/tensorflow/hub/blob/master/examples/colab/tf2_image_retraining.ipynb  "
   ]
  },
  {
   "cell_type": "code",
   "execution_count": 25,
   "id": "8b5ad761-ae0c-4ef5-bd8b-b4e53ff5d69d",
   "metadata": {},
   "outputs": [
    {
     "data": {
      "text/plain": [
       "<matplotlib.image.AxesImage at 0x7f9630802880>"
      ]
     },
     "execution_count": 25,
     "metadata": {},
     "output_type": "execute_result"
    },
    {
     "data": {
      "text/plain": [
       "(-0.5, 223.5, 223.5, -0.5)"
      ]
     },
     "execution_count": 25,
     "metadata": {},
     "output_type": "execute_result"
    },
    {
     "data": {
      "image/png": "[encoded data removed]",
      "text/plain": [
       "<Figure size 432x288 with 1 Axes>"
      ]
     },
     "metadata": {
      "needs_background": "light"
     },
     "output_type": "display_data"
    },
    {
     "name": "stdout",
     "output_type": "stream",
     "text": [
      "1/1 [==============================] - 1s 978ms/step\n",
      "True label: grid_no_smoke\n",
      "Predicted label: grid_no_smoke\n"
     ]
    }
   ],
   "source": [
    "x, y = next(iter(val_ds))\n",
    "image = x[0, :, :, :]\n",
    "true_index = np.argmax(y[0])\n",
    "plt.imshow(image)\n",
    "plt.axis('off')\n",
    "plt.show()\n",
    "\n",
    "# Expand the validation image to (1, 224, 224, 3) before predicting the label\n",
    "prediction_scores = model.predict(np.expand_dims(image, axis=0))\n",
    "predicted_index = np.argmax(prediction_scores)\n",
    "print(\"True label: \" + class_names[true_index])\n",
    "print(\"Predicted label: \" + class_names[predicted_index])"
   ]
  },
  {
   "cell_type": "code",
   "execution_count": 26,
   "id": "6d7647f2-7c18-4f07-8b11-310a6786d7fc",
   "metadata": {},
   "outputs": [],
   "source": [
    "# type(((image, label) \n",
    "#                     for batch in val_ds\n",
    "#                     for (image, label) in zip(*batch)))"
   ]
  },
  {
   "cell_type": "code",
   "execution_count": 27,
   "id": "1eccc7e3-5005-4cd5-81c5-4ea59b455538",
   "metadata": {},
   "outputs": [],
   "source": [
    "def score_eval_examples(num_eval_examples):\n",
    "    eval_dataset = ((image, label) \n",
    "                    for batch in val_ds\n",
    "                    for (image, label) in zip(*batch))\n",
    "\n",
    "    list_predictions=[]\n",
    "    list_prediction_proba=[]\n",
    "    list_labels=[]\n",
    "    count = 0\n",
    "    for image, label in eval_dataset:\n",
    "        count +=1\n",
    "        if count > num_eval_examples: break\n",
    "        prediction_scores = probability_model.predict(np.expand_dims(image, axis=0))\n",
    "        print(prediction_scores, label.numpy()[1])\n",
    "\n",
    "        list_labels.append(label.numpy()[1])\n",
    "        list_predictions.append(np.argmax(prediction_scores[0]))\n",
    "        list_prediction_proba.append( prediction_scores[0][1])\n",
    "        \n",
    "    return list_labels,list_predictions,list_prediction_proba"
   ]
  },
  {
   "cell_type": "code",
   "execution_count": 28,
   "id": "1290f2dd-cf7f-4714-9b95-6a9a69fd58a5",
   "metadata": {},
   "outputs": [],
   "source": [
    "%%capture longcelloutput\n",
    "\n",
    "list_labels, list_predictions, list_prediction_proba = score_eval_examples(500)\n"
   ]
  },
  {
   "cell_type": "code",
   "execution_count": 29,
   "id": "e9b12079-fe29-445c-b3d7-ad797cde19ea",
   "metadata": {},
   "outputs": [
    {
     "data": {
      "text/plain": [
       "[1.0, 0.0]"
      ]
     },
     "execution_count": 29,
     "metadata": {},
     "output_type": "execute_result"
    },
    {
     "data": {
      "text/plain": [
       "[1, 0]"
      ]
     },
     "execution_count": 29,
     "metadata": {},
     "output_type": "execute_result"
    },
    {
     "data": {
      "text/plain": [
       "[0.9709562, 0.050201543]"
      ]
     },
     "execution_count": 29,
     "metadata": {},
     "output_type": "execute_result"
    }
   ],
   "source": [
    "del longcelloutput\n",
    "list_labels[0:2]\n",
    "list_predictions[0:2]\n",
    "list_prediction_proba[0:2]"
   ]
  },
  {
   "cell_type": "code",
   "execution_count": 30,
   "id": "5e433332-e306-4df4-a030-fd6764b72568",
   "metadata": {},
   "outputs": [],
   "source": [
    "if False:\n",
    "    list_predictions=[]\n",
    "    list_prediction_proba=[]\n",
    "    list_labels=[]\n",
    "    for i in range(20):\n",
    "        x, y = next(iter(val_ds))\n",
    "        for counterInsideBatch in range(BATCH_SIZE):\n",
    "            # print(listPredictions, list_labels)\n",
    "            image = x[counterInsideBatch, :, :, :]\n",
    "            # x.shape\n",
    "\n",
    "#             true_index = np.argmax(y[0])\n",
    "#             plt.imshow(image)\n",
    "#             plt.axis('off')\n",
    "#             plt.show()\n",
    "\n",
    "            # Expand the validation image to (1, 224, 224, 3) before predicting the label\n",
    "            prediction_scores = probability_model.predict(np.expand_dims(image, axis=0))\n",
    "            prediction_scores\n",
    "            predicted_index = np.argmax(prediction_scores)\n",
    "            # predicted_index\n",
    "            predicted_proba = prediction_scores[0][1]\n",
    "            predicted_proba\n",
    "            # predicted_proba\n",
    "            true_index = np.argmax(y[counterInsideBatch])\n",
    "            # print(\"True label: \" + class_names[true_index])\n",
    "            list_labels.append(np.argmax(y[counterInsideBatch]))\n",
    "            # print(\"Predicted label: \" + class_names[predicted_index])\n",
    "            list_predictions.append(predicted_index)\n",
    "            list_prediction_proba.append(predicted_proba)\n",
    "\n",
    "    # list_predictions, list_labels\n",
    "    list_prediction_proba"
   ]
  },
  {
   "cell_type": "code",
   "execution_count": 31,
   "id": "2620dd07-fa96-4507-8680-b781282c434f",
   "metadata": {},
   "outputs": [],
   "source": [
    "\n",
    "# true_index = np.argmax(y[0])\n",
    "# plt.imshow(image)\n",
    "# plt.axis('off')\n",
    "# plt.show()"
   ]
  },
  {
   "cell_type": "code",
   "execution_count": 32,
   "id": "44e1cc80-5735-41cb-a6c8-50911b5aa433",
   "metadata": {},
   "outputs": [
    {
     "data": {
      "text/plain": [
       "0.996"
      ]
     },
     "execution_count": 32,
     "metadata": {},
     "output_type": "execute_result"
    },
    {
     "data": {
      "text/plain": [
       "array([[354,   2],\n",
       "       [  0, 144]])"
      ]
     },
     "execution_count": 32,
     "metadata": {},
     "output_type": "execute_result"
    },
    {
     "data": {
      "text/plain": [
       "'grid_no_smoke'"
      ]
     },
     "execution_count": 32,
     "metadata": {},
     "output_type": "execute_result"
    },
    {
     "data": {
      "text/plain": [
       "'grid_smoke'"
      ]
     },
     "execution_count": 32,
     "metadata": {},
     "output_type": "execute_result"
    },
    {
     "data": {
      "text/plain": [
       "146.0"
      ]
     },
     "execution_count": 32,
     "metadata": {},
     "output_type": "execute_result"
    }
   ],
   "source": [
    "accuracy_score(list_predictions, list_labels)\n",
    "confusion_matrix(list_predictions, list_labels)\n",
    "class_names[0]\n",
    "class_names[1]\n",
    "np.sum(np.array(list_labels))"
   ]
  },
  {
   "cell_type": "code",
   "execution_count": 33,
   "id": "4bb5fe74-f775-4a8a-97c5-43da6619f4f5",
   "metadata": {},
   "outputs": [
    {
     "data": {
      "text/plain": [
       "<sklearn.metrics._plot.confusion_matrix.ConfusionMatrixDisplay at 0x7f966d5b4970>"
      ]
     },
     "execution_count": 33,
     "metadata": {},
     "output_type": "execute_result"
    },
    {
     "data": {
      "image/png": "[encoded data removed]",
      "text/plain": [
       "<Figure size 432x288 with 2 Axes>"
      ]
     },
     "metadata": {
      "needs_background": "light"
     },
     "output_type": "display_data"
    }
   ],
   "source": [
    "from sklearn.metrics import ConfusionMatrixDisplay\n",
    "\n",
    "cm = confusion_matrix(list_labels, list_predictions)\n",
    "cmd = ConfusionMatrixDisplay(cm, display_labels=['no-fire','fire'])\n",
    "cmd.plot()"
   ]
  },
  {
   "cell_type": "code",
   "execution_count": 34,
   "id": "8b567d3c-86f1-4ec9-982f-c87245f70a31",
   "metadata": {},
   "outputs": [
    {
     "data": {
      "text/plain": [
       "(array([0.        , 0.        , 0.        , 0.00282486, 0.00282486,\n",
       "        1.        ]),\n",
       " array([0.        , 0.00684932, 0.99315068, 0.99315068, 1.        ,\n",
       "        1.        ]),\n",
       " array([1.996381  , 0.9963811 , 0.45200953, 0.34866458, 0.2936043 ,\n",
       "        0.02425554], dtype=float32))"
      ]
     },
     "execution_count": 34,
     "metadata": {},
     "output_type": "execute_result"
    },
    {
     "name": "stdout",
     "output_type": "stream",
     "text": [
      "Area under the ROC curve : 0.999981\n"
     ]
    }
   ],
   "source": [
    "fpr, tpr, thresholds = roc_curve(list_labels, list_prediction_proba)\n",
    "\n",
    "# aa = (list_prediction_proba)\n",
    "# aa.sort()\n",
    "# print(aa)\n",
    "fpr, tpr, thresholds \n",
    "\n",
    "roc_auc = auc(fpr, tpr)\n",
    "print(\"Area under the ROC curve : %f\" % roc_auc)"
   ]
  },
  {
   "cell_type": "code",
   "execution_count": 35,
   "id": "0681313d-a494-46c8-bcff-06e9384d38c7",
   "metadata": {},
   "outputs": [
    {
     "data": {
      "text/plain": [
       "[<matplotlib.lines.Line2D at 0x7f966d406c70>]"
      ]
     },
     "execution_count": 35,
     "metadata": {},
     "output_type": "execute_result"
    },
    {
     "data": {
      "text/plain": [
       "[<matplotlib.lines.Line2D at 0x7f966d4060d0>]"
      ]
     },
     "execution_count": 35,
     "metadata": {},
     "output_type": "execute_result"
    },
    {
     "data": {
      "text/plain": [
       "(0.0, 1.0)"
      ]
     },
     "execution_count": 35,
     "metadata": {},
     "output_type": "execute_result"
    },
    {
     "data": {
      "text/plain": [
       "(0.0, 1.0)"
      ]
     },
     "execution_count": 35,
     "metadata": {},
     "output_type": "execute_result"
    },
    {
     "data": {
      "text/plain": [
       "Text(0.5, 0, 'False Positive Rate')"
      ]
     },
     "execution_count": 35,
     "metadata": {},
     "output_type": "execute_result"
    },
    {
     "data": {
      "text/plain": [
       "Text(0, 0.5, 'True Positive Rate')"
      ]
     },
     "execution_count": 35,
     "metadata": {},
     "output_type": "execute_result"
    },
    {
     "data": {
      "text/plain": [
       "Text(0.5, 1.0, 'Receiver operating characteristic')"
      ]
     },
     "execution_count": 35,
     "metadata": {},
     "output_type": "execute_result"
    },
    {
     "data": {
      "text/plain": [
       "<matplotlib.legend.Legend at 0x7f966d406220>"
      ]
     },
     "execution_count": 35,
     "metadata": {},
     "output_type": "execute_result"
    },
    {
     "data": {
      "image/png": "[encoded data removed]",
      "text/plain": [
       "<Figure size 432x288 with 1 Axes>"
      ]
     },
     "metadata": {
      "needs_background": "light"
     },
     "output_type": "display_data"
    }
   ],
   "source": [
    "# Plot ROC curve\n",
    "import pylab as pl\n",
    "pl.clf()\n",
    "pl.plot(fpr, tpr, label='ROC curve (area = %0.2f)' % roc_auc)\n",
    "pl.plot([0, 1], [0, 1], 'k--')\n",
    "pl.xlim([0.0, 1.0])\n",
    "pl.ylim([0.0, 1.0])\n",
    "pl.xlabel('False Positive Rate')\n",
    "pl.ylabel('True Positive Rate')\n",
    "pl.title('Receiver operating characteristic')\n",
    "pl.legend(loc=\"lower right\")\n",
    "pl.show()"
   ]
  },
  {
   "cell_type": "code",
   "execution_count": 36,
   "id": "3f2e7a93-a57c-4251-96ff-887c50cc51d9",
   "metadata": {},
   "outputs": [],
   "source": [
    "# saved_model_path = f\"/tmp/saved_wildfire_model_{model_name}\"\n",
    "# tf.saved_model.save(model, saved_model_path)"
   ]
  },
  {
   "cell_type": "code",
   "execution_count": 37,
   "id": "f42461e4-e314-4f6d-b908-1a8a02a57327",
   "metadata": {},
   "outputs": [],
   "source": [
    "# num_eval_examples = 50 \n",
    "# eval_dataset = ((image, label)  # TFLite expects batch size 1.\n",
    "#                 for batch in train_ds\n",
    "#                 for (image, label) in zip(*batch))\n",
    "# count = 0\n",
    "# count_lite_tf_agree = 0\n",
    "# count_lite_correct = 0\n",
    "# for image, label in eval_dataset:\n",
    "#   probs_lite = lite_model(image[None, ...])[0]\n",
    "#   probs_tf = model(image[None, ...]).numpy()[0]\n",
    "#   y_lite = np.argmax(probs_lite)\n",
    "#   y_tf = np.argmax(probs_tf)\n",
    "#   y_true = np.argmax(label)\n",
    "#   count +=1\n",
    "#   if y_lite == y_tf: count_lite_tf_agree += 1\n",
    "#   if y_lite == y_true: count_lite_correct += 1\n",
    "#   if count >= num_eval_examples: break\n",
    "# print(\"TFLite model agrees with original model on %d of %d examples (%g%%).\" %\n",
    "#       (count_lite_tf_agree, count, 100.0 * count_lite_tf_agree / count))\n",
    "# print(\"TFLite model is accurate on %d of %d examples (%g%%).\" %\n",
    "#       (count_lite_correct, count, 100.0 * count_lite_correct / count))"
   ]
  }
 ],
 "metadata": {
  "kernelspec": {
   "display_name": "Python 3 (ipykernel)",
   "language": "python",
   "name": "python3"
  },
  "language_info": {
   "codemirror_mode": {
    "name": "ipython",
    "version": 3
   },
   "file_extension": ".py",
   "mimetype": "text/x-python",
   "name": "python",
   "nbconvert_exporter": "python",
   "pygments_lexer": "ipython3",
   "version": "3.8.10"
  }
 },
 "nbformat": 4,
 "nbformat_minor": 5
}
